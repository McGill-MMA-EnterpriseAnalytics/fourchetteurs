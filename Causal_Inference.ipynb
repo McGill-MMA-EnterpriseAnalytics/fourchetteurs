{
 "cells": [
  {
   "cell_type": "code",
   "execution_count": 3,
   "metadata": {},
   "outputs": [
    {
     "name": "stdout",
     "output_type": "stream",
     "text": [
      "<class 'pandas.core.frame.DataFrame'>\n",
      "RangeIndex: 41188 entries, 0 to 41187\n",
      "Data columns (total 21 columns):\n",
      " #   Column          Non-Null Count  Dtype  \n",
      "---  ------          --------------  -----  \n",
      " 0   age             41188 non-null  int64  \n",
      " 1   job             41188 non-null  object \n",
      " 2   marital         41188 non-null  object \n",
      " 3   education       41188 non-null  object \n",
      " 4   default         41188 non-null  object \n",
      " 5   housing         41188 non-null  object \n",
      " 6   loan            41188 non-null  object \n",
      " 7   contact         41188 non-null  object \n",
      " 8   month           41188 non-null  object \n",
      " 9   day_of_week     41188 non-null  object \n",
      " 10  duration        41188 non-null  int64  \n",
      " 11  campaign        41188 non-null  int64  \n",
      " 12  pdays           41188 non-null  int64  \n",
      " 13  previous        41188 non-null  int64  \n",
      " 14  poutcome        41188 non-null  object \n",
      " 15  emp.var.rate    41188 non-null  float64\n",
      " 16  cons.price.idx  41188 non-null  float64\n",
      " 17  cons.conf.idx   41188 non-null  float64\n",
      " 18  euribor3m       41188 non-null  float64\n",
      " 19  nr.employed     41188 non-null  float64\n",
      " 20  subscribed      41188 non-null  object \n",
      "dtypes: float64(5), int64(5), object(11)\n",
      "memory usage: 6.6+ MB\n"
     ]
    },
    {
     "data": {
      "text/plain": [
       "(   age        job  marital    education  default housing loan    contact  \\\n",
       " 0   56  housemaid  married     basic.4y       no      no   no  telephone   \n",
       " 1   57   services  married  high.school  unknown      no   no  telephone   \n",
       " 2   37   services  married  high.school       no     yes   no  telephone   \n",
       " 3   40     admin.  married     basic.6y       no      no   no  telephone   \n",
       " 4   56   services  married  high.school       no      no  yes  telephone   \n",
       " \n",
       "   month day_of_week  ...  campaign  pdays  previous     poutcome emp.var.rate  \\\n",
       " 0   may         mon  ...         1    999         0  nonexistent          1.1   \n",
       " 1   may         mon  ...         1    999         0  nonexistent          1.1   \n",
       " 2   may         mon  ...         1    999         0  nonexistent          1.1   \n",
       " 3   may         mon  ...         1    999         0  nonexistent          1.1   \n",
       " 4   may         mon  ...         1    999         0  nonexistent          1.1   \n",
       " \n",
       "    cons.price.idx  cons.conf.idx  euribor3m  nr.employed  subscribed  \n",
       " 0          93.994          -36.4      4.857       5191.0          no  \n",
       " 1          93.994          -36.4      4.857       5191.0          no  \n",
       " 2          93.994          -36.4      4.857       5191.0          no  \n",
       " 3          93.994          -36.4      4.857       5191.0          no  \n",
       " 4          93.994          -36.4      4.857       5191.0          no  \n",
       " \n",
       " [5 rows x 21 columns],\n",
       " None,\n",
       "                age      duration      campaign         pdays      previous  \\\n",
       " count  41188.00000  41188.000000  41188.000000  41188.000000  41188.000000   \n",
       " mean      40.02406    258.285010      2.567593    962.475454      0.172963   \n",
       " std       10.42125    259.279249      2.770014    186.910907      0.494901   \n",
       " min       17.00000      0.000000      1.000000      0.000000      0.000000   \n",
       " 25%       32.00000    102.000000      1.000000    999.000000      0.000000   \n",
       " 50%       38.00000    180.000000      2.000000    999.000000      0.000000   \n",
       " 75%       47.00000    319.000000      3.000000    999.000000      0.000000   \n",
       " max       98.00000   4918.000000     56.000000    999.000000      7.000000   \n",
       " \n",
       "        emp.var.rate  cons.price.idx  cons.conf.idx     euribor3m   nr.employed  \n",
       " count  41188.000000    41188.000000   41188.000000  41188.000000  41188.000000  \n",
       " mean       0.081886       93.575664     -40.502600      3.621291   5167.035911  \n",
       " std        1.570960        0.578840       4.628198      1.734447     72.251528  \n",
       " min       -3.400000       92.201000     -50.800000      0.634000   4963.600000  \n",
       " 25%       -1.800000       93.075000     -42.700000      1.344000   5099.100000  \n",
       " 50%        1.100000       93.749000     -41.800000      4.857000   5191.000000  \n",
       " 75%        1.400000       93.994000     -36.400000      4.961000   5228.100000  \n",
       " max        1.400000       94.767000     -26.900000      5.045000   5228.100000  )"
      ]
     },
     "execution_count": 3,
     "metadata": {},
     "output_type": "execute_result"
    }
   ],
   "source": [
    "import pandas as pd\n",
    "\n",
    "# Load the dataset\n",
    "file_path = 'C:/Users/vince/Downloads/bank_marketing_dataset.csv'\n",
    "data = pd.read_csv(file_path)\n",
    "\n",
    "# Display the first few rows and summary statistics of the dataset\n",
    "data_head = data.head()\n",
    "data_info = data.info()\n",
    "data_description = data.describe()\n",
    "\n",
    "data_head, data_info, data_description\n"
   ]
  },
  {
   "cell_type": "markdown",
   "metadata": {},
   "source": [
    "# Preprocessing"
   ]
  },
  {
   "cell_type": "code",
   "execution_count": 4,
   "metadata": {},
   "outputs": [
    {
     "data": {
      "text/plain": [
       "(   age  job  marital  education  default  housing  loan  contact  month  \\\n",
       " 0   56    4        2          1        1        1     1        1      6   \n",
       " 1   57    8        2          4        0        1     1        1      6   \n",
       " 2   37    8        2          4        1        2     1        1      6   \n",
       " 3   40    1        2          2        1        1     1        1      6   \n",
       " 4   56    8        2          4        1        1     2        1      6   \n",
       " \n",
       "    day_of_week  ...  campaign  pdays  previous  poutcome  emp.var.rate  \\\n",
       " 0            1  ...         1    999         0         1           1.1   \n",
       " 1            1  ...         1    999         0         1           1.1   \n",
       " 2            1  ...         1    999         0         1           1.1   \n",
       " 3            1  ...         1    999         0         1           1.1   \n",
       " 4            1  ...         1    999         0         1           1.1   \n",
       " \n",
       "    cons.price.idx  cons.conf.idx  euribor3m  nr.employed  subscribed  \n",
       " 0          93.994          -36.4      4.857       5191.0           0  \n",
       " 1          93.994          -36.4      4.857       5191.0           0  \n",
       " 2          93.994          -36.4      4.857       5191.0           0  \n",
       " 3          93.994          -36.4      4.857       5191.0           0  \n",
       " 4          93.994          -36.4      4.857       5191.0           0  \n",
       " \n",
       " [5 rows x 21 columns],\n",
       " age               0\n",
       " job               0\n",
       " marital           0\n",
       " education         0\n",
       " default           0\n",
       " housing           0\n",
       " loan              0\n",
       " contact           0\n",
       " month             0\n",
       " day_of_week       0\n",
       " duration          0\n",
       " campaign          0\n",
       " pdays             0\n",
       " previous          0\n",
       " poutcome          0\n",
       " emp.var.rate      0\n",
       " cons.price.idx    0\n",
       " cons.conf.idx     0\n",
       " euribor3m         0\n",
       " nr.employed       0\n",
       " subscribed        0\n",
       " dtype: int64)"
      ]
     },
     "execution_count": 4,
     "metadata": {},
     "output_type": "execute_result"
    }
   ],
   "source": [
    "from sklearn.preprocessing import LabelEncoder\n",
    "\n",
    "# Copying the dataset to avoid changes to the original dataframe\n",
    "data_preprocessed = data.copy()\n",
    "\n",
    "# Initialize LabelEncoder\n",
    "le = LabelEncoder()\n",
    "\n",
    "# Columns to encode\n",
    "categorical_columns = data_preprocessed.select_dtypes(include=['object']).columns.tolist()\n",
    "categorical_columns.remove('subscribed')  # We'll handle the target variable separately\n",
    "\n",
    "# Encoding categorical features\n",
    "for column in categorical_columns:\n",
    "    data_preprocessed[column] = data_preprocessed[column].replace('unknown', None)  # Replace 'unknown' with NaN\n",
    "    data_preprocessed[column] = le.fit_transform(data_preprocessed[column].astype(str))  # Encode\n",
    "\n",
    "# Encoding target variable\n",
    "data_preprocessed['subscribed'] = le.fit_transform(data_preprocessed['subscribed'])\n",
    "\n",
    "# Check the head of the dataframe and the handling of 'unknown' values\n",
    "data_preprocessed.head(), data_preprocessed.isnull().sum()\n"
   ]
  },
  {
   "cell_type": "code",
   "execution_count": 5,
   "metadata": {},
   "outputs": [
    {
     "data": {
      "text/plain": [
       "subscribed\n",
       "0    0.887346\n",
       "1    0.112654\n",
       "Name: proportion, dtype: float64"
      ]
     },
     "execution_count": 5,
     "metadata": {},
     "output_type": "execute_result"
    }
   ],
   "source": [
    "# Checking the distribution of the target variable 'subscribed'\n",
    "subscription_counts = data_preprocessed['subscribed'].value_counts(normalize=True)\n",
    "subscription_counts\n"
   ]
  },
  {
   "cell_type": "code",
   "execution_count": 6,
   "metadata": {},
   "outputs": [
    {
     "data": {
      "text/html": [
       "<div>\n",
       "<style scoped>\n",
       "    .dataframe tbody tr th:only-of-type {\n",
       "        vertical-align: middle;\n",
       "    }\n",
       "\n",
       "    .dataframe tbody tr th {\n",
       "        vertical-align: top;\n",
       "    }\n",
       "\n",
       "    .dataframe thead th {\n",
       "        text-align: right;\n",
       "    }\n",
       "</style>\n",
       "<table border=\"1\" class=\"dataframe\">\n",
       "  <thead>\n",
       "    <tr style=\"text-align: right;\">\n",
       "      <th></th>\n",
       "      <th>age</th>\n",
       "      <th>job</th>\n",
       "      <th>marital</th>\n",
       "      <th>education</th>\n",
       "      <th>default</th>\n",
       "      <th>housing</th>\n",
       "      <th>loan</th>\n",
       "      <th>contact</th>\n",
       "      <th>month</th>\n",
       "      <th>campaign</th>\n",
       "      <th>pdays</th>\n",
       "      <th>previous</th>\n",
       "      <th>emp.var.rate</th>\n",
       "      <th>cons.price.idx</th>\n",
       "      <th>cons.conf.idx</th>\n",
       "      <th>euribor3m</th>\n",
       "      <th>nr.employed</th>\n",
       "      <th>subscribed</th>\n",
       "    </tr>\n",
       "  </thead>\n",
       "  <tbody>\n",
       "    <tr>\n",
       "      <th>0</th>\n",
       "      <td>56</td>\n",
       "      <td>4</td>\n",
       "      <td>2</td>\n",
       "      <td>1</td>\n",
       "      <td>1</td>\n",
       "      <td>1</td>\n",
       "      <td>1</td>\n",
       "      <td>1</td>\n",
       "      <td>6</td>\n",
       "      <td>1</td>\n",
       "      <td>999</td>\n",
       "      <td>0</td>\n",
       "      <td>1.1</td>\n",
       "      <td>93.994</td>\n",
       "      <td>-36.4</td>\n",
       "      <td>4.857</td>\n",
       "      <td>5191.0</td>\n",
       "      <td>0</td>\n",
       "    </tr>\n",
       "    <tr>\n",
       "      <th>1</th>\n",
       "      <td>57</td>\n",
       "      <td>8</td>\n",
       "      <td>2</td>\n",
       "      <td>4</td>\n",
       "      <td>0</td>\n",
       "      <td>1</td>\n",
       "      <td>1</td>\n",
       "      <td>1</td>\n",
       "      <td>6</td>\n",
       "      <td>1</td>\n",
       "      <td>999</td>\n",
       "      <td>0</td>\n",
       "      <td>1.1</td>\n",
       "      <td>93.994</td>\n",
       "      <td>-36.4</td>\n",
       "      <td>4.857</td>\n",
       "      <td>5191.0</td>\n",
       "      <td>0</td>\n",
       "    </tr>\n",
       "    <tr>\n",
       "      <th>2</th>\n",
       "      <td>37</td>\n",
       "      <td>8</td>\n",
       "      <td>2</td>\n",
       "      <td>4</td>\n",
       "      <td>1</td>\n",
       "      <td>2</td>\n",
       "      <td>1</td>\n",
       "      <td>1</td>\n",
       "      <td>6</td>\n",
       "      <td>1</td>\n",
       "      <td>999</td>\n",
       "      <td>0</td>\n",
       "      <td>1.1</td>\n",
       "      <td>93.994</td>\n",
       "      <td>-36.4</td>\n",
       "      <td>4.857</td>\n",
       "      <td>5191.0</td>\n",
       "      <td>0</td>\n",
       "    </tr>\n",
       "    <tr>\n",
       "      <th>3</th>\n",
       "      <td>40</td>\n",
       "      <td>1</td>\n",
       "      <td>2</td>\n",
       "      <td>2</td>\n",
       "      <td>1</td>\n",
       "      <td>1</td>\n",
       "      <td>1</td>\n",
       "      <td>1</td>\n",
       "      <td>6</td>\n",
       "      <td>1</td>\n",
       "      <td>999</td>\n",
       "      <td>0</td>\n",
       "      <td>1.1</td>\n",
       "      <td>93.994</td>\n",
       "      <td>-36.4</td>\n",
       "      <td>4.857</td>\n",
       "      <td>5191.0</td>\n",
       "      <td>0</td>\n",
       "    </tr>\n",
       "    <tr>\n",
       "      <th>4</th>\n",
       "      <td>56</td>\n",
       "      <td>8</td>\n",
       "      <td>2</td>\n",
       "      <td>4</td>\n",
       "      <td>1</td>\n",
       "      <td>1</td>\n",
       "      <td>2</td>\n",
       "      <td>1</td>\n",
       "      <td>6</td>\n",
       "      <td>1</td>\n",
       "      <td>999</td>\n",
       "      <td>0</td>\n",
       "      <td>1.1</td>\n",
       "      <td>93.994</td>\n",
       "      <td>-36.4</td>\n",
       "      <td>4.857</td>\n",
       "      <td>5191.0</td>\n",
       "      <td>0</td>\n",
       "    </tr>\n",
       "  </tbody>\n",
       "</table>\n",
       "</div>"
      ],
      "text/plain": [
       "   age  job  marital  education  default  housing  loan  contact  month  \\\n",
       "0   56    4        2          1        1        1     1        1      6   \n",
       "1   57    8        2          4        0        1     1        1      6   \n",
       "2   37    8        2          4        1        2     1        1      6   \n",
       "3   40    1        2          2        1        1     1        1      6   \n",
       "4   56    8        2          4        1        1     2        1      6   \n",
       "\n",
       "   campaign  pdays  previous  emp.var.rate  cons.price.idx  cons.conf.idx  \\\n",
       "0         1    999         0           1.1          93.994          -36.4   \n",
       "1         1    999         0           1.1          93.994          -36.4   \n",
       "2         1    999         0           1.1          93.994          -36.4   \n",
       "3         1    999         0           1.1          93.994          -36.4   \n",
       "4         1    999         0           1.1          93.994          -36.4   \n",
       "\n",
       "   euribor3m  nr.employed  subscribed  \n",
       "0      4.857       5191.0           0  \n",
       "1      4.857       5191.0           0  \n",
       "2      4.857       5191.0           0  \n",
       "3      4.857       5191.0           0  \n",
       "4      4.857       5191.0           0  "
      ]
     },
     "execution_count": 6,
     "metadata": {},
     "output_type": "execute_result"
    }
   ],
   "source": [
    "# Dropping the specified columns: 'duration', 'poutcome', and 'day_of_week'\n",
    "data_preprocessed = data_preprocessed.drop(['duration', 'poutcome', 'day_of_week'], axis=1)\n",
    "\n",
    "# Display the updated DataFrame to confirm the changes\n",
    "data_preprocessed.head()\n"
   ]
  },
  {
   "cell_type": "code",
   "execution_count": 7,
   "metadata": {},
   "outputs": [],
   "source": [
    "from sklearn.preprocessing import StandardScaler\n",
    "\n",
    "# Initialize the StandardScaler\n",
    "scaler = StandardScaler()\n",
    "\n",
    "# Columns to scale (all numeric columns except the target variable)\n",
    "numeric_columns = data_preprocessed.select_dtypes(include=['int64', 'float64']).columns.tolist()\n"
   ]
  },
  {
   "cell_type": "code",
   "execution_count": 8,
   "metadata": {},
   "outputs": [
    {
     "data": {
      "text/plain": [
       "['age',\n",
       " 'campaign',\n",
       " 'pdays',\n",
       " 'previous',\n",
       " 'emp.var.rate',\n",
       " 'cons.price.idx',\n",
       " 'cons.conf.idx',\n",
       " 'euribor3m',\n",
       " 'nr.employed']"
      ]
     },
     "execution_count": 8,
     "metadata": {},
     "output_type": "execute_result"
    }
   ],
   "source": [
    "numeric_columns"
   ]
  },
  {
   "cell_type": "markdown",
   "metadata": {},
   "source": [
    "# Upsampling"
   ]
  },
  {
   "cell_type": "code",
   "execution_count": 9,
   "metadata": {},
   "outputs": [
    {
     "data": {
      "text/plain": [
       "subscribed\n",
       "0    36548\n",
       "1    36548\n",
       "Name: count, dtype: int64"
      ]
     },
     "execution_count": 9,
     "metadata": {},
     "output_type": "execute_result"
    }
   ],
   "source": [
    "from sklearn.utils import resample\n",
    "\n",
    "# Separate the majority and minority classes\n",
    "data_majority = data_preprocessed[data_preprocessed.subscribed == 0]\n",
    "data_minority = data_preprocessed[data_preprocessed.subscribed == 1]\n",
    "\n",
    "# Upsample minority class\n",
    "data_minority_upsampled = resample(data_minority,\n",
    "                                   replace=True,     # sample with replacement\n",
    "                                   n_samples=len(data_majority),    # to match majority class\n",
    "                                   random_state=123) # reproducible results\n",
    "\n",
    "# Combine majority class with upsampled minority class\n",
    "data_balanced = pd.concat([data_majority, data_minority_upsampled])\n",
    "\n",
    "# Display new class counts\n",
    "data_balanced['subscribed'].value_counts()\n"
   ]
  },
  {
   "cell_type": "markdown",
   "metadata": {},
   "source": [
    "data_balanced=data_preprocessed.copy()"
   ]
  },
  {
   "cell_type": "code",
   "execution_count": 10,
   "metadata": {},
   "outputs": [
    {
     "name": "stdout",
     "output_type": "stream",
     "text": [
      "   age  job  marital  education  default  housing  loan  contact  month  \\\n",
      "0   56    4        2          1        1        1     1        1      6   \n",
      "1   57    8        2          4        0        1     1        1      6   \n",
      "2   37    8        2          4        1        2     1        1      6   \n",
      "3   40    1        2          2        1        1     1        1      6   \n",
      "4   56    8        2          4        1        1     2        1      6   \n",
      "\n",
      "   campaign  pdays  previous  emp.var.rate  cons.price.idx  cons.conf.idx  \\\n",
      "0         1    999         0           1.1          93.994          -36.4   \n",
      "1         1    999         0           1.1          93.994          -36.4   \n",
      "2         1    999         0           1.1          93.994          -36.4   \n",
      "3         1    999         0           1.1          93.994          -36.4   \n",
      "4         1    999         0           1.1          93.994          -36.4   \n",
      "\n",
      "   euribor3m  nr.employed  subscribed  \n",
      "0      4.857       5191.0           0  \n",
      "1      4.857       5191.0           0  \n",
      "2      4.857       5191.0           0  \n",
      "3      4.857       5191.0           0  \n",
      "4      4.857       5191.0           0  \n"
     ]
    }
   ],
   "source": [
    "import pandas as pd\n",
    "# Create a copy of the data_balanced dataset\n",
    "dataset1 = data_balanced.copy()\n",
    "\n",
    "# Print the first few rows of dataset1\n",
    "print(dataset1.head())\n"
   ]
  },
  {
   "cell_type": "code",
   "execution_count": 11,
   "metadata": {},
   "outputs": [
    {
     "data": {
      "text/html": [
       "<div>\n",
       "<style scoped>\n",
       "    .dataframe tbody tr th:only-of-type {\n",
       "        vertical-align: middle;\n",
       "    }\n",
       "\n",
       "    .dataframe tbody tr th {\n",
       "        vertical-align: top;\n",
       "    }\n",
       "\n",
       "    .dataframe thead th {\n",
       "        text-align: right;\n",
       "    }\n",
       "</style>\n",
       "<table border=\"1\" class=\"dataframe\">\n",
       "  <thead>\n",
       "    <tr style=\"text-align: right;\">\n",
       "      <th></th>\n",
       "      <th>age</th>\n",
       "      <th>job</th>\n",
       "      <th>marital</th>\n",
       "      <th>education</th>\n",
       "      <th>default</th>\n",
       "      <th>housing</th>\n",
       "      <th>loan</th>\n",
       "      <th>contact</th>\n",
       "      <th>month</th>\n",
       "      <th>campaign</th>\n",
       "      <th>pdays</th>\n",
       "      <th>previous</th>\n",
       "      <th>emp.var.rate</th>\n",
       "      <th>cons.price.idx</th>\n",
       "      <th>cons.conf.idx</th>\n",
       "      <th>euribor3m</th>\n",
       "      <th>nr.employed</th>\n",
       "      <th>subscribed</th>\n",
       "    </tr>\n",
       "  </thead>\n",
       "  <tbody>\n",
       "    <tr>\n",
       "      <th>0</th>\n",
       "      <td>1.305973</td>\n",
       "      <td>4</td>\n",
       "      <td>2</td>\n",
       "      <td>1</td>\n",
       "      <td>1</td>\n",
       "      <td>1</td>\n",
       "      <td>1</td>\n",
       "      <td>1</td>\n",
       "      <td>6</td>\n",
       "      <td>-0.56714</td>\n",
       "      <td>0.356658</td>\n",
       "      <td>-0.447954</td>\n",
       "      <td>0.924539</td>\n",
       "      <td>0.814609</td>\n",
       "      <td>0.71345</td>\n",
       "      <td>1.000075</td>\n",
       "      <td>0.636166</td>\n",
       "      <td>0</td>\n",
       "    </tr>\n",
       "    <tr>\n",
       "      <th>1</th>\n",
       "      <td>1.389478</td>\n",
       "      <td>8</td>\n",
       "      <td>2</td>\n",
       "      <td>4</td>\n",
       "      <td>0</td>\n",
       "      <td>1</td>\n",
       "      <td>1</td>\n",
       "      <td>1</td>\n",
       "      <td>6</td>\n",
       "      <td>-0.56714</td>\n",
       "      <td>0.356658</td>\n",
       "      <td>-0.447954</td>\n",
       "      <td>0.924539</td>\n",
       "      <td>0.814609</td>\n",
       "      <td>0.71345</td>\n",
       "      <td>1.000075</td>\n",
       "      <td>0.636166</td>\n",
       "      <td>0</td>\n",
       "    </tr>\n",
       "    <tr>\n",
       "      <th>2</th>\n",
       "      <td>-0.280637</td>\n",
       "      <td>8</td>\n",
       "      <td>2</td>\n",
       "      <td>4</td>\n",
       "      <td>1</td>\n",
       "      <td>2</td>\n",
       "      <td>1</td>\n",
       "      <td>1</td>\n",
       "      <td>6</td>\n",
       "      <td>-0.56714</td>\n",
       "      <td>0.356658</td>\n",
       "      <td>-0.447954</td>\n",
       "      <td>0.924539</td>\n",
       "      <td>0.814609</td>\n",
       "      <td>0.71345</td>\n",
       "      <td>1.000075</td>\n",
       "      <td>0.636166</td>\n",
       "      <td>0</td>\n",
       "    </tr>\n",
       "    <tr>\n",
       "      <th>3</th>\n",
       "      <td>-0.030120</td>\n",
       "      <td>1</td>\n",
       "      <td>2</td>\n",
       "      <td>2</td>\n",
       "      <td>1</td>\n",
       "      <td>1</td>\n",
       "      <td>1</td>\n",
       "      <td>1</td>\n",
       "      <td>6</td>\n",
       "      <td>-0.56714</td>\n",
       "      <td>0.356658</td>\n",
       "      <td>-0.447954</td>\n",
       "      <td>0.924539</td>\n",
       "      <td>0.814609</td>\n",
       "      <td>0.71345</td>\n",
       "      <td>1.000075</td>\n",
       "      <td>0.636166</td>\n",
       "      <td>0</td>\n",
       "    </tr>\n",
       "    <tr>\n",
       "      <th>4</th>\n",
       "      <td>1.305973</td>\n",
       "      <td>8</td>\n",
       "      <td>2</td>\n",
       "      <td>4</td>\n",
       "      <td>1</td>\n",
       "      <td>1</td>\n",
       "      <td>2</td>\n",
       "      <td>1</td>\n",
       "      <td>6</td>\n",
       "      <td>-0.56714</td>\n",
       "      <td>0.356658</td>\n",
       "      <td>-0.447954</td>\n",
       "      <td>0.924539</td>\n",
       "      <td>0.814609</td>\n",
       "      <td>0.71345</td>\n",
       "      <td>1.000075</td>\n",
       "      <td>0.636166</td>\n",
       "      <td>0</td>\n",
       "    </tr>\n",
       "  </tbody>\n",
       "</table>\n",
       "</div>"
      ],
      "text/plain": [
       "        age  job  marital  education  default  housing  loan  contact  month  \\\n",
       "0  1.305973    4        2          1        1        1     1        1      6   \n",
       "1  1.389478    8        2          4        0        1     1        1      6   \n",
       "2 -0.280637    8        2          4        1        2     1        1      6   \n",
       "3 -0.030120    1        2          2        1        1     1        1      6   \n",
       "4  1.305973    8        2          4        1        1     2        1      6   \n",
       "\n",
       "   campaign     pdays  previous  emp.var.rate  cons.price.idx  cons.conf.idx  \\\n",
       "0  -0.56714  0.356658 -0.447954      0.924539        0.814609        0.71345   \n",
       "1  -0.56714  0.356658 -0.447954      0.924539        0.814609        0.71345   \n",
       "2  -0.56714  0.356658 -0.447954      0.924539        0.814609        0.71345   \n",
       "3  -0.56714  0.356658 -0.447954      0.924539        0.814609        0.71345   \n",
       "4  -0.56714  0.356658 -0.447954      0.924539        0.814609        0.71345   \n",
       "\n",
       "   euribor3m  nr.employed  subscribed  \n",
       "0   1.000075     0.636166           0  \n",
       "1   1.000075     0.636166           0  \n",
       "2   1.000075     0.636166           0  \n",
       "3   1.000075     0.636166           0  \n",
       "4   1.000075     0.636166           0  "
      ]
     },
     "execution_count": 11,
     "metadata": {},
     "output_type": "execute_result"
    }
   ],
   "source": [
    "# Applying standard scaling\n",
    "data_balanced[numeric_columns] = scaler.fit_transform(data_balanced[numeric_columns])\n",
    "\n",
    "# Display the scaled dataframe to confirm the changes\n",
    "data_balanced.head()"
   ]
  },
  {
   "cell_type": "markdown",
   "metadata": {},
   "source": [
    "# Logistical Regression for Reference"
   ]
  },
  {
   "cell_type": "code",
   "execution_count": 12,
   "metadata": {},
   "outputs": [
    {
     "data": {
      "text/html": [
       "<div>\n",
       "<style scoped>\n",
       "    .dataframe tbody tr th:only-of-type {\n",
       "        vertical-align: middle;\n",
       "    }\n",
       "\n",
       "    .dataframe tbody tr th {\n",
       "        vertical-align: top;\n",
       "    }\n",
       "\n",
       "    .dataframe thead th {\n",
       "        text-align: right;\n",
       "    }\n",
       "</style>\n",
       "<table border=\"1\" class=\"dataframe\">\n",
       "  <thead>\n",
       "    <tr style=\"text-align: right;\">\n",
       "      <th></th>\n",
       "      <th>Coefficient</th>\n",
       "    </tr>\n",
       "  </thead>\n",
       "  <tbody>\n",
       "    <tr>\n",
       "      <th>age</th>\n",
       "      <td>0.022245</td>\n",
       "    </tr>\n",
       "    <tr>\n",
       "      <th>job</th>\n",
       "      <td>0.001747</td>\n",
       "    </tr>\n",
       "    <tr>\n",
       "      <th>marital</th>\n",
       "      <td>0.086465</td>\n",
       "    </tr>\n",
       "    <tr>\n",
       "      <th>education</th>\n",
       "      <td>0.019966</td>\n",
       "    </tr>\n",
       "    <tr>\n",
       "      <th>default</th>\n",
       "      <td>0.245529</td>\n",
       "    </tr>\n",
       "    <tr>\n",
       "      <th>housing</th>\n",
       "      <td>-0.003014</td>\n",
       "    </tr>\n",
       "    <tr>\n",
       "      <th>loan</th>\n",
       "      <td>0.026635</td>\n",
       "    </tr>\n",
       "    <tr>\n",
       "      <th>contact</th>\n",
       "      <td>-0.819916</td>\n",
       "    </tr>\n",
       "    <tr>\n",
       "      <th>month</th>\n",
       "      <td>-0.113898</td>\n",
       "    </tr>\n",
       "    <tr>\n",
       "      <th>campaign</th>\n",
       "      <td>-0.075533</td>\n",
       "    </tr>\n",
       "    <tr>\n",
       "      <th>pdays</th>\n",
       "      <td>-0.613032</td>\n",
       "    </tr>\n",
       "    <tr>\n",
       "      <th>previous</th>\n",
       "      <td>-0.273219</td>\n",
       "    </tr>\n",
       "    <tr>\n",
       "      <th>emp.var.rate</th>\n",
       "      <td>-1.666745</td>\n",
       "    </tr>\n",
       "    <tr>\n",
       "      <th>cons.price.idx</th>\n",
       "      <td>0.552877</td>\n",
       "    </tr>\n",
       "    <tr>\n",
       "      <th>cons.conf.idx</th>\n",
       "      <td>0.039191</td>\n",
       "    </tr>\n",
       "    <tr>\n",
       "      <th>euribor3m</th>\n",
       "      <td>1.435720</td>\n",
       "    </tr>\n",
       "    <tr>\n",
       "      <th>nr.employed</th>\n",
       "      <td>-1.052611</td>\n",
       "    </tr>\n",
       "  </tbody>\n",
       "</table>\n",
       "</div>"
      ],
      "text/plain": [
       "                Coefficient\n",
       "age                0.022245\n",
       "job                0.001747\n",
       "marital            0.086465\n",
       "education          0.019966\n",
       "default            0.245529\n",
       "housing           -0.003014\n",
       "loan               0.026635\n",
       "contact           -0.819916\n",
       "month             -0.113898\n",
       "campaign          -0.075533\n",
       "pdays             -0.613032\n",
       "previous          -0.273219\n",
       "emp.var.rate      -1.666745\n",
       "cons.price.idx     0.552877\n",
       "cons.conf.idx      0.039191\n",
       "euribor3m          1.435720\n",
       "nr.employed       -1.052611"
      ]
     },
     "execution_count": 12,
     "metadata": {},
     "output_type": "execute_result"
    }
   ],
   "source": [
    "from sklearn.linear_model import LogisticRegression\n",
    "from sklearn.model_selection import train_test_split\n",
    "from sklearn.metrics import classification_report, confusion_matrix\n",
    "\n",
    "# Prepare features and target\n",
    "X_balanced = data_balanced.drop('subscribed', axis=1)\n",
    "y_balanced = data_balanced['subscribed']\n",
    "\n",
    "# Splitting the data into training and testing sets\n",
    "X_train, X_test, y_train, y_test = train_test_split(X_balanced, y_balanced, test_size=0.2, random_state=42)\n",
    "\n",
    "# Initialize Logistic Regression\n",
    "log_reg = LogisticRegression(max_iter=1000)\n",
    "\n",
    "# Fit the model\n",
    "log_reg.fit(X_train, y_train)\n",
    "\n",
    "# Predictions\n",
    "y_pred = log_reg.predict(X_test)\n",
    "\n",
    "# Evaluating the model\n",
    "report = classification_report(y_test, y_pred)\n",
    "conf_matrix = confusion_matrix(y_test, y_pred)\n",
    "\n",
    "# Coefficients\n",
    "coefficients = pd.DataFrame(log_reg.coef_.T, index=X_balanced.columns, columns=['Coefficient'])\n",
    "\n",
    "coefficients\n"
   ]
  },
  {
   "cell_type": "code",
   "execution_count": 13,
   "metadata": {},
   "outputs": [
    {
     "name": "stdout",
     "output_type": "stream",
     "text": [
      "Accuracy: 0.7344049247606019\n",
      "Precision: 0.7884057971014493\n",
      "Recall: 0.6363886595100468\n",
      "F1 Score: 0.7042875637803669\n",
      "Confusion Matrix:\n",
      " [[6113 1241]\n",
      " [2642 4624]]\n"
     ]
    }
   ],
   "source": [
    "from sklearn.metrics import accuracy_score, precision_score, recall_score, f1_score, confusion_matrix\n",
    "\n",
    "# Make predictions on the test set\n",
    "y_pred = log_reg.predict(X_test)\n",
    "\n",
    "# Calculate metrics\n",
    "accuracy = accuracy_score(y_test, y_pred)\n",
    "precision = precision_score(y_test, y_pred)\n",
    "recall = recall_score(y_test, y_pred)\n",
    "f1 = f1_score(y_test, y_pred)\n",
    "conf_matrix = confusion_matrix(y_test, y_pred)\n",
    "\n",
    "# Print the metrics\n",
    "print(\"Accuracy:\", accuracy)\n",
    "print(\"Precision:\", precision)\n",
    "print(\"Recall:\", recall)\n",
    "print(\"F1 Score:\", f1)\n",
    "print(\"Confusion Matrix:\\n\", conf_matrix)\n"
   ]
  },
  {
   "cell_type": "markdown",
   "metadata": {},
   "source": [
    "# Causal Inference"
   ]
  },
  {
   "cell_type": "code",
   "execution_count": 14,
   "metadata": {},
   "outputs": [
    {
     "name": "stderr",
     "output_type": "stream",
     "text": [
      "IProgress not found. Please update jupyter and ipywidgets. See https://ipywidgets.readthedocs.io/en/stable/user_install.html\n"
     ]
    }
   ],
   "source": [
    "import econml\n",
    "from econml.dml import DML, LinearDML, SparseLinearDML, CausalForestDML\n",
    "from econml.orf import DMLOrthoForest\n",
    "import numpy as np\n",
    "from itertools import product\n",
    "from sklearn.linear_model import (Lasso, LassoCV, LogisticRegression,\n",
    "                                  LogisticRegressionCV,LinearRegression,\n",
    "                                  MultiTaskElasticNet,MultiTaskElasticNetCV)\n",
    "from sklearn.ensemble import RandomForestRegressor,RandomForestClassifier\n",
    "from sklearn.preprocessing import PolynomialFeatures\n",
    "import matplotlib.pyplot as plt\n",
    "import matplotlib\n",
    "from sklearn.model_selection import train_test_split\n",
    "from xgboost import XGBRegressor\n",
    "from econml.sklearn_extensions.linear_model import WeightedLassoCVWrapper, WeightedLasso, WeightedLassoCV\n",
    "from sklearn.linear_model import LassoCV"
   ]
  },
  {
   "cell_type": "code",
   "execution_count": 15,
   "metadata": {},
   "outputs": [],
   "source": [
    "from sklearn.ensemble import GradientBoostingClassifier\n"
   ]
  },
  {
   "cell_type": "code",
   "execution_count": 16,
   "metadata": {},
   "outputs": [],
   "source": [
    "W = data_balanced[['age', 'job', 'marital', 'education', 'default', 'housing', 'loan', 'contact', 'previous', 'cons.price.idx', 'cons.conf.idx', 'euribor3m']]\n",
    "T = dataset1[['campaign']]\n",
    "Y = data_balanced['subscribed']\n",
    "X = data_balanced[['age', 'job', 'marital', 'education', 'default', 'housing', 'loan', 'contact', 'month', 'campaign', 'previous', 'cons.price.idx', 'cons.conf.idx', 'euribor3m']]"
   ]
  },
  {
   "cell_type": "code",
   "execution_count": 17,
   "metadata": {},
   "outputs": [],
   "source": [
    "# First split: Separating out the test set\n",
    "Y_train_val, Y_test, T_train_val, T_test, X_train_val, X_test, W_train_val, W_test = train_test_split(\n",
    "    Y, T, X, W, test_size=0.2, random_state=123)\n",
    "\n",
    "# Second split: Splitting the remaining data into training and validation sets\n",
    "Y_train, Y_val, T_train, T_val, X_train, X_val, W_train, W_val = train_test_split(\n",
    "    Y_train_val, T_train_val, X_train_val, W_train_val, test_size=0.25, random_state=123) # 0.25 * 0.8 = 0.2"
   ]
  },
  {
   "cell_type": "code",
   "execution_count": 18,
   "metadata": {},
   "outputs": [],
   "source": [
    "from econml.dml import CausalForestDML\n",
    "from sklearn.ensemble import GradientBoostingRegressor\n",
    "from sklearn.linear_model import LogisticRegression"
   ]
  },
  {
   "cell_type": "code",
   "execution_count": 19,
   "metadata": {},
   "outputs": [],
   "source": [
    "from sklearn.linear_model import LinearRegression\n",
    "from sklearn.ensemble import GradientBoostingClassifier\n"
   ]
  },
  {
   "cell_type": "markdown",
   "metadata": {},
   "source": [
    "## Casual Forest"
   ]
  },
  {
   "cell_type": "code",
   "execution_count": 58,
   "metadata": {},
   "outputs": [
    {
     "name": "stderr",
     "output_type": "stream",
     "text": [
      "A column-vector y was passed when a 1d array was expected. Please change the shape of y to (n_samples, ), for example using ravel().\n"
     ]
    }
   ],
   "source": [
    "est = CausalForestDML(model_y=LassoCV(),\n",
    "                       model_t=LassoCV(),\n",
    "                       criterion='mse', n_estimators=1000,\n",
    "                       min_impurity_decrease=0.001,\n",
    "                       random_state=123)\n",
    "est.fit(Y_train, T_train, X=X_train, W=W_train)\n",
    "te_pred = est.effect(X_test)"
   ]
  },
  {
   "cell_type": "code",
   "execution_count": 59,
   "metadata": {},
   "outputs": [
    {
     "name": "stdout",
     "output_type": "stream",
     "text": [
      "Mean effect of treatment:-0.45702505455904285\n",
      "Effect Interval (95% confidence): [-7.763336960680115, 3.0636902506915096]\n"
     ]
    }
   ],
   "source": [
    "# Calculate the confidence interval using percentiles\n",
    "lower_bound = np.percentile(te_pred, 2.5)\n",
    "upper_bound = np.percentile(te_pred, 97.5)\n",
    "avg_effect = est.ate(X)\n",
    "# Print effect\n",
    "print(f\"Mean effect of treatment:{avg_effect}\")\n",
    "print(\"Effect Interval (95% confidence): [{}, {}]\".format(lower_bound, upper_bound))"
   ]
  },
  {
   "cell_type": "code",
   "execution_count": 60,
   "metadata": {},
   "outputs": [],
   "source": [
    "import shap"
   ]
  },
  {
   "cell_type": "code",
   "execution_count": 61,
   "metadata": {},
   "outputs": [
    {
     "name": "stderr",
     "output_type": "stream",
     "text": [
      "100%|===================| 73018/73096 [06:54<00:00]        "
     ]
    }
   ],
   "source": [
    "shap_values = est.shap_values(X)"
   ]
  },
  {
   "cell_type": "code",
   "execution_count": 62,
   "metadata": {},
   "outputs": [
    {
     "data": {
      "image/png": "[encoded data removed]",
      "text/plain": [
       "<Figure size 800x710 with 2 Axes>"
      ]
     },
     "metadata": {},
     "output_type": "display_data"
    }
   ],
   "source": [
    "\n",
    "# convert dict_keys object to a list to make it subscriptable\n",
    "output_name = list(shap_values.keys())[0] \n",
    "treatment_name = list(shap_values[output_name].keys())[0] \n",
    "\n",
    "specific_shap_values = shap_values[output_name][treatment_name]\n",
    "\n",
    "\n",
    "# visualize the SHAP values\n",
    "shap.summary_plot(specific_shap_values, X)"
   ]
  },
  {
   "cell_type": "code",
   "execution_count": 63,
   "metadata": {},
   "outputs": [
    {
     "data": {
      "text/plain": [
       "array([-3.01898531,  2.21298198, -5.48490567, ...,  1.33286768,\n",
       "        3.06369025, -5.48490567])"
      ]
     },
     "execution_count": 63,
     "metadata": {},
     "output_type": "execute_result"
    }
   ],
   "source": [
    "te_pred"
   ]
  },
  {
   "cell_type": "markdown",
   "metadata": {},
   "source": [
    "## Linear DML"
   ]
  },
  {
   "cell_type": "code",
   "execution_count": 75,
   "metadata": {},
   "outputs": [
    {
     "name": "stderr",
     "output_type": "stream",
     "text": [
      "A column-vector y was passed when a 1d array was expected. Please change the shape of y to (n_samples, ), for example using ravel().\n"
     ]
    }
   ],
   "source": [
    "est2 = LinearDML(model_y=LassoCV(),\n",
    "                model_t=LassoCV(),\n",
    "                random_state=123)\n",
    "est2.fit(Y_train, T_train, X=X_train, W=W_train)\n",
    "te_pred2 = est2.effect(X_test)"
   ]
  },
  {
   "cell_type": "code",
   "execution_count": 76,
   "metadata": {},
   "outputs": [
    {
     "name": "stdout",
     "output_type": "stream",
     "text": [
      "Mean effect of treatment:-3.6805877189139604\n",
      "Effect Interval (95% confidence): [-29.017377900439655, 17.5634472454549]\n"
     ]
    }
   ],
   "source": [
    "# Calculate the confidence interval using percentiles\n",
    "lower_bound2 = np.percentile(te_pred2, 2.5)\n",
    "upper_bound2 = np.percentile(te_pred2, 97.5)\n",
    "avg_effect2 = est2.ate(X)\n",
    "# Print effect\n",
    "print(f\"Mean effect of treatment:{avg_effect2}\")\n",
    "print(\"Effect Interval (95% confidence): [{}, {}]\".format(lower_bound2, upper_bound2))"
   ]
  }
 ],
 "metadata": {
  "kernelspec": {
   "display_name": "Python 3",
   "language": "python",
   "name": "python3"
  },
  "language_info": {
   "codemirror_mode": {
    "name": "ipython",
    "version": 3
   },
   "file_extension": ".py",
   "mimetype": "text/x-python",
   "name": "python",
   "nbconvert_exporter": "python",
   "pygments_lexer": "ipython3",
   "version": "3.11.9"
  }
 },
 "nbformat": 4,
 "nbformat_minor": 2
}
