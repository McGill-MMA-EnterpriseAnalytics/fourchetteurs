{
  "nbformat": 4,
  "nbformat_minor": 0,
  "metadata": {
    "colab": {
      "provenance": [],
      "collapsed_sections": []
    },
    "kernelspec": {
      "name": "python3",
      "display_name": "Python 3"
    },
    "language_info": {
      "name": "python"
    }
  },
  "cells": [
    {
      "cell_type": "markdown",
      "source": [
        "#**Topic:** K-Means Clustering"
      ],
      "metadata": {
        "id": "fwXIo7Sj42pb"
      }
    },
    {
      "cell_type": "markdown",
      "source": [
        "## **Methodology**"
      ],
      "metadata": {
        "id": "ug1Xh6hnJSBm"
      }
    },
    {
      "cell_type": "markdown",
      "source": [
        "Clustering methods aim to partition the data set so that observations in the same group are similar and observations in different groups are different. Let $\\{(x_{i1},...,x_{ip})\\}_{i=1}^n$ denote the $n$ observations in the data set. Each observation has $p$ features.\n"
      ],
      "metadata": {
        "id": "VCeqREwg_d_f"
      }
    },
    {
      "cell_type": "markdown",
      "source": [
        "### K-Means Clustering"
      ],
      "metadata": {
        "id": "sqEMZJmpAXuN"
      }
    },
    {
      "cell_type": "markdown",
      "source": [
        "One clustering method is $K$-Means clustering where we seek to to partition the observations into a pre-specifed number of clusters $K$. A solution to $K$-Means clustering is to find $K$ sets (denoted $C_1$, $C_2$,...,$C_k$) such that the following properties hold:\n",
        "* Each observation is in one of the clusters.\n",
        "    $$C_1 \\cup C_2 \\cup \\cdots \\cup C_k = \\{1,...,n\\}.$$\n",
        "* No observation belongs to more than one cluster (i.e. non-overlapping sets). \n",
        "    $$C_i \\cap C_j = \\emptyset \\hspace{4em} \\forall i \\neq j.$$\n",
        "\n",
        "\n",
        "The objective is to have a minimal within-cluster sum-of-squares (also called inertia), i.e. the elements within a cluster should be as similar as possible. The value of the within-cluster sum-of-squares is calculated by comparing each observation with the centroid of its cluster. The centroid of a cluster is the average of all observations in the cluster. Formally, the $K$-means problem is aiming to find a partition of the observations into $K$ non-overlapping sets (denoted $C_1,...,C_K$ with respective centroids $c_1,...,c_K$) such that the following objective is minimized:\n",
        "\\begin{align}\n",
        "\\sum_{i=0}^n \\min_{k\\in \\{1,...,K\\}} ||x_i - c_k||^2\n",
        "\\end{align}\n",
        "where $||x_i - c_k||$ is the Euclidean distance between observation $x_i$ and centroid $c_k$.\n",
        "\n",
        "This optimization problem is difficult to solve. It is computationally infeasible to check all partitions. Therefore, Python uses the following algorithm to find the $K$ clusters.\n",
        "* Randomly initialize $K$ centroids.\n",
        "* Iterate until the centroids stop changing:\n",
        "  1. Assign each observation to the cluster whose centroid is closest (by Euclidean distance). \n",
        "  2. For each of the $K$ clusters, compute the cluster centroid."
      ],
      "metadata": {
        "id": "V60oaMNmAbJE"
      }
    },
    {
      "cell_type": "markdown",
      "source": [
        "##**Case  Study:** FIFA 2019"
      ],
      "metadata": {
        "id": "H0dHMJwp9hf6"
      }
    },
    {
      "cell_type": "markdown",
      "source": [
        "The FIFA 2019 game dataset provides detailed attributes for every player registered in the 2019 edition of the video game FIFA. Each row in this data corresponds to a player and there are 86 attributes (features) recorded for every player. The data has 18,147 players. "
      ],
      "metadata": {
        "id": "cD5pcwHP4_1M"
      }
    },
    {
      "cell_type": "markdown",
      "source": [
        "### Understand the problem & data\n",
        "\n",
        "\n",
        "\n",
        "\n",
        "\n"
      ],
      "metadata": {
        "id": "1N4LkFxu5rDW"
      }
    },
    {
      "cell_type": "markdown",
      "source": [
        "Import the \"fifa19data.csv\" file."
      ],
      "metadata": {
        "id": "_-5NKce07P8X"
      }
    },
    {
      "cell_type": "code",
      "execution_count": null,
      "metadata": {
        "id": "2TNACR4B4zcJ"
      },
      "outputs": [],
      "source": [
        "import pandas as pd\n",
        "data = pd.read_csv('fifa19data.csv')"
      ]
    },
    {
      "cell_type": "markdown",
      "source": [
        "Clustering methods aim to partition the data set so that observations in the same group are similar and observations in different groups are different.\n",
        "\n",
        "By exploring the data, we may be able to cluster the players based on their attributes. \n",
        "\n",
        "Throughout this lecture, we will use the variables $GKDiving$, $GKReflexes$, $ShortPassing$, $Dribbling$, and $Agility$. Execute the following code to remove players from the dataset that do not have information for all these variables."
      ],
      "metadata": {
        "id": "ncDXCvxYi595"
      }
    },
    {
      "cell_type": "code",
      "source": [
        "data = data.dropna(subset=['GKDiving', 'GKReflexes', 'ShortPassing', 'Dribbling', 'Agility'])"
      ],
      "metadata": {
        "id": "53kmN_7PNVAv"
      },
      "execution_count": null,
      "outputs": []
    },
    {
      "cell_type": "markdown",
      "source": [
        "Explore the data to see how player's $GKDiving$ score relates to their $GKReflexes$ score."
      ],
      "metadata": {
        "id": "wBYiX2nbNUWJ"
      }
    },
    {
      "cell_type": "code",
      "source": [
        "import matplotlib.pyplot as plt\n",
        "\n",
        "\n",
        "\n"
      ],
      "metadata": {
        "id": "9F_LDMi6jQ2x"
      },
      "execution_count": null,
      "outputs": []
    },
    {
      "cell_type": "markdown",
      "source": [
        "How many clusters seem appropriate based on these two attributes of the players?\n"
      ],
      "metadata": {
        "id": "PNGbUVsbjJvr"
      }
    },
    {
      "cell_type": "markdown",
      "source": [
        "### Model Specification"
      ],
      "metadata": {
        "id": "b3MyryQA58Mc"
      }
    },
    {
      "cell_type": "markdown",
      "source": [
        "One clustering method is $K$-Means clustering where we seek to to partition the \n",
        "observations into a pre-specified number of clusters $K$. See the notes above on *K-Means Clustering* for additional details.\n",
        "\n",
        "A solution to K-Means clustering is to find $K$ sets (denoted $C_1$, $C_2$,...,$C_K$) \n",
        "such that the following properties hold:\n",
        "* Each observation is in one of the clusters.\n",
        "* No observation belongs to more than one cluster (i.e. non-overlapping sets). \n",
        "\n",
        "The objective is to have a minimal within-cluster sum-of-squares, i.e. the elements within a cluster should be as similar as possible.\n",
        "\n",
        "Take $K = 2$."
      ],
      "metadata": {
        "id": "1RUWI2PyyTAd"
      }
    },
    {
      "cell_type": "markdown",
      "source": [
        "### Model Estimation"
      ],
      "metadata": {
        "id": "68rgPBPB6ADF"
      }
    },
    {
      "cell_type": "markdown",
      "source": [
        "Implement $K$-Means Clustering where $K = 2$. Set the *random_state = 0* when implementing $K$-Means Clustering in this class."
      ],
      "metadata": {
        "id": "U6iXCJ05xd-p"
      }
    },
    {
      "cell_type": "code",
      "source": [
        "from sklearn.cluster import KMeans\n",
        "\n",
        "\n",
        "\n"
      ],
      "metadata": {
        "id": "NvyMmrxXxetI"
      },
      "execution_count": null,
      "outputs": []
    },
    {
      "cell_type": "markdown",
      "source": [
        "The output of the *KMeans()* function has useful information for our analysis.\n",
        "\n",
        "The output *labels_* provides a label for each observation in the dataset. In this case, we have two clusters and therefore two labels: 0 and 1.\n"
      ],
      "metadata": {
        "id": "-haLoapxDIHu"
      }
    },
    {
      "cell_type": "code",
      "source": [
        "\n",
        "\n",
        "\n"
      ],
      "metadata": {
        "id": "XrqXnRazBjyn"
      },
      "execution_count": null,
      "outputs": []
    },
    {
      "cell_type": "markdown",
      "source": [
        "How many observations are in each cluster?"
      ],
      "metadata": {
        "id": "LS7SZG-nOFMI"
      }
    },
    {
      "cell_type": "code",
      "source": [
        "\n",
        "\n",
        "\n"
      ],
      "metadata": {
        "id": "FhalfL7OOLPJ"
      },
      "execution_count": null,
      "outputs": []
    },
    {
      "cell_type": "markdown",
      "source": [
        "In the plot above, which cluster is cluster 0 and which cluster is cluster 1?"
      ],
      "metadata": {
        "id": "mF6aCrf3QdQt"
      }
    },
    {
      "cell_type": "code",
      "source": [
        "\n",
        "\n",
        "\n"
      ],
      "metadata": {
        "id": "oKpHf2NnQ42d"
      },
      "execution_count": null,
      "outputs": []
    },
    {
      "cell_type": "markdown",
      "source": [
        "Visualize the two clusters using different colors."
      ],
      "metadata": {
        "id": "51lo4UmMPp2j"
      }
    },
    {
      "cell_type": "code",
      "source": [
        "\n",
        "\n",
        "\n"
      ],
      "metadata": {
        "id": "z_HPUOn-PtOX"
      },
      "execution_count": null,
      "outputs": []
    },
    {
      "cell_type": "markdown",
      "source": [
        "Recall that the clusters aim to minimize the total within cluster sum of squares. Compute the within-cluster sum-of-squares for these clusters."
      ],
      "metadata": {
        "id": "AI_smUvMLhpq"
      }
    },
    {
      "cell_type": "code",
      "source": [
        "\n",
        "\n",
        "\n"
      ],
      "metadata": {
        "id": "jzSLRInZQcqr"
      },
      "execution_count": null,
      "outputs": []
    },
    {
      "cell_type": "markdown",
      "source": [
        "Although the number of clusters was clear in the previous example, the number of clusters may not always be evident.\n",
        "\n",
        "One approach to choose the number of clusters $K$ is called the \"Elbow method.\" We try a variety of values for $K$ and analyze the within-cluster sum-of-squares. Increasing $K$ adds more clusters which by definition decreases the within-cluster sum-of-squares. By plotting the within-cluster sum-of-squares vs. $K$, we determine the value of K where the shape of the graph rapidly changes thus creating an \"elbow\" shape. The K value corresponding to this point may be a good choice for the number of clusters."
      ],
      "metadata": {
        "id": "BHifLFXBOaRG"
      }
    },
    {
      "cell_type": "markdown",
      "source": [
        "Do the process described above for the dataset that includes $GKReflexes$ and $GKDiving$. Consider $K$ values between 1 and 10. Do you find that $K=2$ is a good choice?\n"
      ],
      "metadata": {
        "id": "956jDDWrYzlU"
      }
    },
    {
      "cell_type": "code",
      "source": [
        "\n",
        "\n",
        "\n"
      ],
      "metadata": {
        "id": "TDZkb5YUEQjM"
      },
      "execution_count": null,
      "outputs": []
    },
    {
      "cell_type": "markdown",
      "source": [
        "### Model Specification"
      ],
      "metadata": {
        "id": "8K3ltrmsEW9I"
      }
    },
    {
      "cell_type": "markdown",
      "source": [
        "Now, let us look at the attributes of $ShortPassing$, $Dribbling$, and $Agility$ to create clusters for the players. Explore the data to see how these attributes relate and whether or not the appropriate number of clusters is clear."
      ],
      "metadata": {
        "id": "YNzBSuhNaAoo"
      }
    },
    {
      "cell_type": "code",
      "source": [
        "\n",
        "\n",
        "\n"
      ],
      "metadata": {
        "id": "LvLUiZVIQEsh"
      },
      "execution_count": null,
      "outputs": []
    },
    {
      "cell_type": "markdown",
      "source": [
        "### Model Estimation"
      ],
      "metadata": {
        "id": "so-5VWUldylQ"
      }
    },
    {
      "cell_type": "markdown",
      "source": [
        "Use the elbow method to choose the approriate value of $K$."
      ],
      "metadata": {
        "id": "d-e5fR8NHFtQ"
      }
    },
    {
      "cell_type": "code",
      "source": [
        "\n",
        "\n",
        "\n"
      ],
      "metadata": {
        "id": "AWqraWvI4iHE"
      },
      "execution_count": null,
      "outputs": []
    },
    {
      "cell_type": "markdown",
      "source": [
        "Visualize the clusters based on the choice of $K$."
      ],
      "metadata": {
        "id": "uXw7mdOCRS4V"
      }
    },
    {
      "cell_type": "code",
      "source": [
        "\n",
        "\n",
        "\n"
      ],
      "metadata": {
        "id": "Re4pALH474Tq"
      },
      "execution_count": null,
      "outputs": []
    },
    {
      "cell_type": "markdown",
      "source": [
        "One of the challenges of unsupervised learning is there is not a \"right\" answer or a way to \"check your work.\" In supervised learning, we can evaluate measures of accuracy since we have a response variable. Here, we are exploring the data to build insights.\n",
        "\n",
        "For example, we might look at other variables for each cluster. Compare the average $Overall$ score for each cluster."
      ],
      "metadata": {
        "id": "FI0tMU5oH1zl"
      }
    },
    {
      "cell_type": "code",
      "source": [
        "\n",
        "\n",
        "\n"
      ],
      "metadata": {
        "id": "Taw24JMPhSfZ"
      },
      "execution_count": null,
      "outputs": []
    }
  ]
}